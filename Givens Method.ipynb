{
 "cells": [
  {
   "cell_type": "markdown",
   "id": "046e8731",
   "metadata": {},
   "source": [
    "# 2.) GIVENS METHOD"
   ]
  },
  {
   "cell_type": "code",
   "execution_count": 2,
   "id": "4fe5a629",
   "metadata": {},
   "outputs": [
    {
     "name": "stdout",
     "output_type": "stream",
     "text": [
      "[[ 1.      2.2361  0.      2.    ]\n",
      " [ 2.2361  1.     -1.      1.3416]\n",
      " [ 0.     -1.      2.      0.4472]\n",
      " [ 2.      1.3416  0.4472  1.    ]]\n",
      "[[ 1.      3.      0.      0.    ]\n",
      " [ 3.      2.3333 -0.4472  0.1491]\n",
      " [ 0.     -0.4472  2.      1.    ]\n",
      " [ 0.      0.1491  1.     -0.3333]]\n",
      "[[ 1.      3.      0.      0.    ]\n",
      " [ 3.      2.3333 -0.4714 -0.    ]\n",
      " [ 0.     -0.4714  1.1667  1.5   ]\n",
      " [ 0.     -0.      1.5     0.5   ]]\n",
      "The Number of Iterations required for Given's method is : 3.0\n",
      "[[ 1.     -3.      0.      0.    ]\n",
      " [-3.      2.3333 -0.4714 -0.    ]\n",
      " [ 0.     -0.4714  1.1667 -1.5   ]\n",
      " [ 0.     -0.     -1.5     0.5   ]]\n",
      "Elapsed time: 0.0218 seconds\n"
     ]
    }
   ],
   "source": [
    "import time\n",
    "\n",
    "start_time = time.time()\n",
    "\n",
    "import numpy as np\n",
    "import math\n",
    "\n",
    "# Define the matrix A\n",
    "#A = np.array([[3, 1, 1], [1, 3, 2], [1, 2, 3] ])   another example \n",
    "A = np.array([[1, 2, 1, 2], [2, 2, -1, 1], [1, -1, 1, 1], [2, 1, 1, 1]])\n",
    "n = 4  # size of square matrix A\n",
    "\n",
    "# Initialize the unitary matrix Q as the identity matrix\n",
    "Q = np.eye(n)\n",
    "\n",
    "# Tri-diagonalize A using the Givens method\n",
    "for i in range(0, A.shape[0]):\n",
    "    for j in range(i + 1, A.shape[0] - 1):\n",
    "        r = i    # row index r\n",
    "        p = i + 1    # row index p\n",
    "        q = j + 1    # column index q\n",
    "        \n",
    "        # Calculate the rotation angle in degrees and radians\n",
    "        theta_degrees = math.degrees(math.atan(A[r, q] / A[r, r + 1]))\n",
    "        theta_radians = math.radians(theta_degrees)\n",
    "        \n",
    "        # Calculate the sin and cos of the rotation angle\n",
    "        sin_theta = math.sin(theta_radians)\n",
    "        cos_theta = math.cos(theta_radians)\n",
    "        \n",
    "        # Initialize Q as the identity matrix before applying the Givens rotation\n",
    "        Q = np.eye(A.shape[0])\n",
    "        \n",
    "        # Populate the matrix Q with values for the current Givens rotation\n",
    "        Q[p, p] = cos_theta\n",
    "        Q[p, q] = sin_theta\n",
    "        Q[q, p] = -sin_theta\n",
    "        Q[q, q] = cos_theta\n",
    "        \n",
    "        # Update matrix A by applying the Givens rotation using matrix multiplication\n",
    "        A = np.dot(Q, np.dot(A, Q.T))\n",
    "        \n",
    "        # Print the updated matrix A\n",
    "        print(A.round(decimals=4))\n",
    "\n",
    "# Negate the off-diagonal elements in the last two rows and columns of A\n",
    "A[n - 1][n - 2] = -(A[n - 1][n - 2])\n",
    "A[n - 2][n - 1] = -(A[n - 2][n - 1])\n",
    "A[n - 4][n - 3] = -(A[n - 4][n - 3])\n",
    "A[n - 3][n - 4] = -(A[n - 3][n - 4])\n",
    "\n",
    "#Number of iterations or rotations required in Givens method \n",
    "k = ((n*n)-((n)+2*(n-1)))/2\n",
    "\n",
    "\n",
    "# Print the final tridiagonal matrix A\n",
    "print(f\"The Number of Iterations required for Given's method is : {k}\")\n",
    "print(A.round(decimals=4))\n",
    "\n",
    "\n",
    "end_time = time.time()\n",
    "\n",
    "elapsed_time = end_time - start_time\n",
    "\n",
    "print(f\"Elapsed time: {elapsed_time:.4f} seconds\")"
   ]
  },
  {
   "cell_type": "markdown",
   "id": "482f9315",
   "metadata": {},
   "source": [
    "# Eigenvectors of Tridiagonalized matrix"
   ]
  },
  {
   "cell_type": "code",
   "execution_count": 3,
   "id": "55a464e0",
   "metadata": {},
   "outputs": [
    {
     "name": "stdout",
     "output_type": "stream",
     "text": [
      "[[ 1.     -3.      0.      0.    ]\n",
      " [-3.      2.3333 -0.4714 -0.    ]\n",
      " [ 0.     -0.4714  1.1667 -1.5   ]\n",
      " [ 0.     -0.     -1.5     0.5   ]]\n",
      "Eigenvalues of A:\n",
      "[ 4.78378005  2.34968353 -1.4658573  -0.66760628]\n",
      "\n",
      "Eigenvectors:\n",
      "[[ 0.61635818  0.1212607  -0.74892336 -0.21097923]\n",
      " [-0.77738793 -0.05455453 -0.61557938 -0.11727676]\n",
      " [ 0.11852485 -0.76980622 -0.19502003  0.59608508]\n",
      " [-0.04150243  0.624274   -0.14880533  0.76577836]]\n"
     ]
    }
   ],
   "source": [
    "\n",
    "import numpy as np\n",
    "print(A.round(decimals=4))\n",
    "\n",
    "# Calculate eigenvalues and eigenvectors of matrix A\n",
    "eigenvals, eigenvecs = np.linalg.eig(A)\n",
    "\n",
    "# Print the eigenvalues\n",
    "print(\"Eigenvalues of A:\")\n",
    "print(eigenvals)\n",
    "\n",
    "\n",
    "# Print eigenvectors\n",
    "print(\"\\nEigenvectors:\")\n",
    "print(eigenvecs)"
   ]
  },
  {
   "cell_type": "markdown",
   "id": "964d1b83",
   "metadata": {},
   "source": [
    "# Eigenvectors of covariance matrix"
   ]
  },
  {
   "cell_type": "code",
   "execution_count": 1,
   "id": "c0342322",
   "metadata": {},
   "outputs": [
    {
     "name": "stdout",
     "output_type": "stream",
     "text": [
      "Eigenvalues:\n",
      "[ 4.78378005  2.34968353 -1.4658573  -0.66760628]\n",
      "\n",
      "Eigenvectors:\n",
      "[[ 0.61635818  0.1212607   0.74892336 -0.21097923]\n",
      " [ 0.57554185 -0.58650376 -0.46964085 -0.32280396]\n",
      " [ 0.14738301  0.74396511 -0.38905977 -0.52290215]\n",
      " [ 0.51684855  0.29635299 -0.25919833  0.76017018]]\n"
     ]
    }
   ],
   "source": [
    "import numpy as np\n",
    "\n",
    "# Define the matrix B\n",
    "B = np.array([[1, 2,1,2], [2,2,-1,1], [1,-1,1,1],[2,1,1,1]])\n",
    "\n",
    "# Calculate eigenvalues and eigenvectors\n",
    "eigenvalsB, eigenvecsB = np.linalg.eig(B)\n",
    "\n",
    "# Print eigenvalues\n",
    "print(\"Eigenvalues:\")\n",
    "print(eigenvalsB)\n",
    "\n",
    "# Print eigenvectors\n",
    "print(\"\\nEigenvectors:\")\n",
    "print(eigenvecsB)\n"
   ]
  },
  {
   "cell_type": "markdown",
   "id": "4c875243",
   "metadata": {},
   "source": [
    "# By observing the eigen values obtained from the final tridiagonalized matrix we can say that we have successfully implemented the GIVENS Method"
   ]
  },
  {
   "cell_type": "code",
   "execution_count": 44,
   "id": "5eadcd7d",
   "metadata": {},
   "outputs": [
    {
     "name": "stdout",
     "output_type": "stream",
     "text": [
      "[[ 1.     -3.      0.      0.    ]\n",
      " [-3.      2.3333 -0.4714 -0.    ]\n",
      " [ 0.     -0.4714  1.1667 -1.5   ]\n",
      " [ 0.     -0.     -1.5     0.5   ]]\n",
      "[[ 0.61635818  0.1212607  -0.74892336 -0.21097923]\n",
      " [-0.77738793 -0.05455453 -0.61557938 -0.11727676]\n",
      " [ 0.11852485 -0.76980622 -0.19502003  0.59608508]\n",
      " [-0.04150243  0.624274   -0.14880533  0.76577836]]\n"
     ]
    }
   ],
   "source": [
    "print(A.round(decimals=4))\n",
    "print(eigenvecs)"
   ]
  },
  {
   "cell_type": "code",
   "execution_count": 61,
   "id": "347e051d",
   "metadata": {
    "scrolled": true
   },
   "outputs": [
    {
     "name": "stdout",
     "output_type": "stream",
     "text": [
      "[[ 1.      0.      0.      0.    ]\n",
      " [ 0.      1.      0.      0.    ]\n",
      " [ 0.      0.      0.9487 -0.3162]\n",
      " [ 0.      0.      0.3162  0.9487]]\n"
     ]
    }
   ],
   "source": [
    "print(Q.round(decimals=4))"
   ]
  },
  {
   "cell_type": "markdown",
   "id": "b2fb31bb",
   "metadata": {},
   "source": [
    "# The above matrix Q is the Givens Rotaion matrix used in the last Iteration"
   ]
  },
  {
   "cell_type": "markdown",
   "id": "61e51d8c",
   "metadata": {},
   "source": [
    "# We know that if x is an eigenvector of A, then y = T_inverse.x is an eigenvector of Â"
   ]
  },
  {
   "cell_type": "code",
   "execution_count": 5,
   "id": "88023969",
   "metadata": {},
   "outputs": [
    {
     "name": "stdout",
     "output_type": "stream",
     "text": [
      "[[ 1.          0.          0.          0.        ]\n",
      " [ 0.          1.          0.          0.        ]\n",
      " [ 0.          0.          0.9486833   0.31622777]\n",
      " [ 0.          0.         -0.31622777  0.9486833 ]]\n",
      "[[ 0.6164  0.1213  0.7489 -0.211 ]\n",
      " [ 0.5755 -0.5865 -0.4696 -0.3228]\n",
      " [ 0.3033  0.7995 -0.4511 -0.2557]\n",
      " [ 0.4437  0.0459 -0.1229  0.8865]]\n"
     ]
    }
   ],
   "source": [
    "T_inverse = np.linalg.inv(Q)\n",
    "print(T_inverse)\n",
    "Y = np.dot(T_inverse, eigenvecsB)\n",
    "print(Y.round(decimals=4))"
   ]
  },
  {
   "cell_type": "markdown",
   "id": "efd30397",
   "metadata": {},
   "source": [
    "# The eigenvectors obtained in the above cell following the above stated theorem are similar to the Eigenvectors of Tridiagonalized matrix so we can say that the y= T_inverse. x relation is satisfied"
   ]
  }
 ],
 "metadata": {
  "kernelspec": {
   "display_name": "Python 3 (ipykernel)",
   "language": "python",
   "name": "python3"
  },
  "language_info": {
   "codemirror_mode": {
    "name": "ipython",
    "version": 3
   },
   "file_extension": ".py",
   "mimetype": "text/x-python",
   "name": "python",
   "nbconvert_exporter": "python",
   "pygments_lexer": "ipython3",
   "version": "3.9.12"
  }
 },
 "nbformat": 4,
 "nbformat_minor": 5
}
