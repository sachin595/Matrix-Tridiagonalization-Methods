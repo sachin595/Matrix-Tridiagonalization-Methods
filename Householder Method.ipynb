{
 "cells": [
  {
   "cell_type": "markdown",
   "id": "aebee5a4",
   "metadata": {},
   "source": [
    "# 1.) HOUSEHOLDER METHOD"
   ]
  },
  {
   "cell_type": "code",
   "execution_count": 2,
   "id": "32d402ea",
   "metadata": {},
   "outputs": [
    {
     "name": "stdout",
     "output_type": "stream",
     "text": [
      "\n",
      "[1 2 1 2]\n",
      "[1 2 1 2]\n",
      "for 0 iteration:\n",
      "s value:  3.0\n",
      "v value:  5.0\n",
      "alpha value:  0.18257418583505536\n",
      "W matrix values:  [0. 5. 1. 2.]\n",
      "[[ 1.     -3.      0.      0.    ]\n",
      " [-3.      2.3333  0.4667 -0.0667]\n",
      " [ 0.      0.4667  1.5733  1.3467]\n",
      " [ 0.     -0.0667  1.3467  0.0933]]\n",
      "\n",
      "[-3.          2.33333333  0.46666667 -0.06666667]\n",
      "[-3.          2.33333333  0.46666667 -0.06666667]\n",
      "for 1 iteration:\n",
      "s value:  0.4714045207910315\n",
      "v value:  0.9380711874576979\n",
      "alpha value:  1.0633353013601898\n",
      "W matrix values:  [ 0.          0.          0.93807119 -0.06666667]\n",
      "[[ 1.     -3.     -0.      0.    ]\n",
      " [-3.      2.3333 -0.4714 -0.    ]\n",
      " [-0.     -0.4714  1.1667 -1.5   ]\n",
      " [ 0.     -0.     -1.5     0.5   ]]\n",
      "Number of iterations required for Householder's method is: 2\n",
      "Elapsed time: 0.0197 seconds\n"
     ]
    }
   ],
   "source": [
    "import time\n",
    "\n",
    "start_time = time.time()\n",
    "\n",
    "import numpy as np\n",
    "\n",
    "A = np.array([[1, 2, 1, 2], \n",
    "              [2, 2, -1, 1], \n",
    "              [1, -1, 1, 1], \n",
    "              [2, 1, 1, 1]])\n",
    "n = 4\n",
    "\n",
    "# Make a copy of the input matrix\n",
    "temp1 = np.copy(A)\n",
    "\n",
    "# Perform Householder's method\n",
    "for r in range(n-2):\n",
    "    # Print the current row of the temporary matrix\n",
    "    print()\n",
    "    print(temp1[r])\n",
    "    # Make a copy of the current row\n",
    "    x = np.copy(temp1[r])\n",
    "    print(x)\n",
    "    # Calculate s\n",
    "    sum = 0\n",
    "    for i in range(r+1, n):\n",
    "        sum += x[i]**2\n",
    "    s = np.sqrt(sum)\n",
    "    # Calculate alpha, v, and w\n",
    "    alpha = 1 / np.sqrt(2 * s * (s + x[r+1]))\n",
    "    v = x[r+1] + s\n",
    "    w = np.zeros(n)\n",
    "    w[r+1] = v\n",
    "    for i in range(r+2, n):\n",
    "        w[i] = x[i]\n",
    "    # Print the values of s, v, alpha, and w\n",
    "    print(\"for\", r, \"iteration:\")\n",
    "    print(\"s value: \", s)\n",
    "    print(\"v value: \", v)\n",
    "    print(\"alpha value: \", alpha)\n",
    "    print(\"W matrix values: \", w)\n",
    "    # Scale w by alpha\n",
    "    w = w * alpha\n",
    "    # Compute ww, t, and tt\n",
    "    ww = np.zeros((n, n))\n",
    "    for i in range(n):\n",
    "        for j in range(n):\n",
    "            ww[i][j] = 2 * w[i] * w[j]\n",
    "    id = np.eye(n)\n",
    "    t = id - ww\n",
    "    tt = np.transpose(t)\n",
    "    # Compute it and temp2\n",
    "    it = np.zeros((n, n))\n",
    "    for i in range(n):\n",
    "        for j in range(n):\n",
    "            for k in range(n):\n",
    "                it[i][j] += t[i][k] * temp1[k][j]\n",
    "    temp2 = np.zeros((n, n))\n",
    "    for i in range(n):\n",
    "        for j in range(n):\n",
    "            for k in range(n):\n",
    "                temp2[i][j] += it[i][k] * tt[k][j]\n",
    "    # Make temp2 the new temporary matrix\n",
    "    temp1 = np.copy(temp2)\n",
    "    # Print the updated temporary matrix\n",
    "    print(temp1.round(decimals=4))\n",
    "\n",
    "# Print the number of iterations required for Householder's method\n",
    "print(\"Number of iterations required for Householder's method is:\", n-2)\n",
    "\n",
    "\n",
    "end_time = time.time()\n",
    "\n",
    "elapsed_time = end_time - start_time\n",
    "\n",
    "print(f\"Elapsed time: {elapsed_time:.4f} seconds\")"
   ]
  },
  {
   "cell_type": "markdown",
   "id": "0f7802a7",
   "metadata": {},
   "source": [
    "# Number of iterations required for Householder's method is: 2"
   ]
  },
  {
   "cell_type": "markdown",
   "id": "e7907c04",
   "metadata": {},
   "source": [
    "# Eigenvectors of Tridiagonalized matrix"
   ]
  },
  {
   "cell_type": "code",
   "execution_count": 3,
   "id": "2a2024cd",
   "metadata": {},
   "outputs": [
    {
     "name": "stdout",
     "output_type": "stream",
     "text": [
      "[[ 1.     -3.     -0.      0.    ]\n",
      " [-3.      2.3333 -0.4714 -0.    ]\n",
      " [-0.     -0.4714  1.1667 -1.5   ]\n",
      " [ 0.     -0.     -1.5     0.5   ]]\n",
      "Eigenvalues of Tridiagonalized matrix:\n",
      "[ 4.78378005  2.34968353 -1.4658573  -0.66760628]\n",
      "\n",
      "Eigenvectors of Tridiagonalized matrix:\n",
      "[[ 0.61635818 -0.1212607  -0.74892336 -0.21097923]\n",
      " [-0.77738793  0.05455453 -0.61557938 -0.11727676]\n",
      " [ 0.11852485  0.76980622 -0.19502003  0.59608508]\n",
      " [-0.04150243 -0.624274   -0.14880533  0.76577836]]\n"
     ]
    }
   ],
   "source": [
    "import numpy as np\n",
    "print(temp1.round(decimals=4))\n",
    "\n",
    "# Calculate eigenvalues and eigenvectors of matrix temp1\n",
    "eigenvals, eigenvecs = np.linalg.eig(temp1)\n",
    "\n",
    "# Print the eigenvalues\n",
    "print(\"Eigenvalues of Tridiagonalized matrix:\")\n",
    "print(eigenvals)\n",
    "\n",
    "\n",
    "# Print eigenvectors\n",
    "print(\"\\nEigenvectors of Tridiagonalized matrix:\")\n",
    "print(eigenvecs)"
   ]
  },
  {
   "cell_type": "markdown",
   "id": "a04f1755",
   "metadata": {},
   "source": [
    "# Eigenvectors of covariance matrix"
   ]
  },
  {
   "cell_type": "code",
   "execution_count": 4,
   "id": "c0e1e473",
   "metadata": {},
   "outputs": [
    {
     "name": "stdout",
     "output_type": "stream",
     "text": [
      "Eigenvalues of original matrix:\n",
      "[ 4.78378005  2.34968353 -1.4658573  -0.66760628]\n",
      "\n",
      "Eigenvectors of original matrix:\n",
      "[[ 0.61635818  0.1212607   0.74892336 -0.21097923]\n",
      " [ 0.57554185 -0.58650376 -0.46964085 -0.32280396]\n",
      " [ 0.14738301  0.74396511 -0.38905977 -0.52290215]\n",
      " [ 0.51684855  0.29635299 -0.25919833  0.76017018]]\n"
     ]
    }
   ],
   "source": [
    "import numpy as np\n",
    "\n",
    "# Define the matrix A\n",
    "A = np.array([[1, 2,1,2], [2,2,-1,1], [1,-1,1,1],[2,1,1,1]])\n",
    "\n",
    "# Calculate eigenvalues and eigenvectors of matrix A\n",
    "eigenvals1, eigenvecs1 = np.linalg.eig(A)\n",
    "\n",
    "# Print the eigenvalues\n",
    "print(\"Eigenvalues of original matrix:\")\n",
    "print(eigenvals1)\n",
    "\n",
    "# Print eigenvectors\n",
    "print(\"\\nEigenvectors of original matrix:\")\n",
    "print(eigenvecs1)\n"
   ]
  },
  {
   "cell_type": "markdown",
   "id": "721f81a1",
   "metadata": {},
   "source": [
    "# By observing  eigen values obtained from the final tridiagonalized matrix and comparing with the eigen values of original covariance matrix we can say that we have successfully implemented the Householder Method"
   ]
  },
  {
   "cell_type": "code",
   "execution_count": 5,
   "id": "bb067936",
   "metadata": {},
   "outputs": [
    {
     "name": "stdout",
     "output_type": "stream",
     "text": [
      "[[ 1.      0.      0.      0.    ]\n",
      " [ 0.      1.      0.      0.    ]\n",
      " [ 0.      0.     -0.9899  0.1414]\n",
      " [ 0.      0.      0.1414  0.9899]]\n"
     ]
    }
   ],
   "source": [
    "print(t.round(decimals=4))"
   ]
  },
  {
   "cell_type": "markdown",
   "id": "ad450bfc",
   "metadata": {},
   "source": [
    "# The above matrix T is the Householder transformation used in the last Iteration"
   ]
  },
  {
   "cell_type": "markdown",
   "id": "c38a2829",
   "metadata": {},
   "source": [
    "# We know that if x is an eigenvector of A, then y = T_inverse.x is an eigenvector of Â"
   ]
  },
  {
   "cell_type": "code",
   "execution_count": 6,
   "id": "21adccdc",
   "metadata": {},
   "outputs": [
    {
     "name": "stdout",
     "output_type": "stream",
     "text": [
      "[[ 1.          0.          0.          0.        ]\n",
      " [ 0.          1.          0.          0.        ]\n",
      " [-0.         -0.         -0.98994949  0.14142136]\n",
      " [ 0.          0.          0.14142136  0.98994949]]\n",
      "[[ 0.6164  0.1213  0.7489 -0.211 ]\n",
      " [ 0.5755 -0.5865 -0.4696 -0.3228]\n",
      " [-0.0728 -0.6946  0.3485  0.6252]\n",
      " [ 0.5325  0.3986 -0.3116  0.6786]]\n"
     ]
    }
   ],
   "source": [
    "T_inverse = np.linalg.inv(t)\n",
    "print(T_inverse)\n",
    "y = np.dot(T_inverse, eigenvecs1)\n",
    "print(y.round(decimals=4))"
   ]
  },
  {
   "cell_type": "markdown",
   "id": "26312d72",
   "metadata": {},
   "source": [
    "# The eigenvectors obtained in the above cell following the above stated theorem are similar to the Eigenvectors of Tridiagonalized matrix so we can say that the y= T_inverse. x relation is satisfied. "
   ]
  },
  {
   "cell_type": "code",
   "execution_count": null,
   "id": "ab09d069",
   "metadata": {},
   "outputs": [],
   "source": []
  }
 ],
 "metadata": {
  "kernelspec": {
   "display_name": "Python 3 (ipykernel)",
   "language": "python",
   "name": "python3"
  },
  "language_info": {
   "codemirror_mode": {
    "name": "ipython",
    "version": 3
   },
   "file_extension": ".py",
   "mimetype": "text/x-python",
   "name": "python",
   "nbconvert_exporter": "python",
   "pygments_lexer": "ipython3",
   "version": "3.9.12"
  }
 },
 "nbformat": 4,
 "nbformat_minor": 5
}
