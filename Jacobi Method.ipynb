{
 "cells": [
  {
   "cell_type": "markdown",
   "id": "4f1f9fb6",
   "metadata": {},
   "source": [
    "# 3.) JACOBI METHOD"
   ]
  },
  {
   "cell_type": "code",
   "execution_count": 5,
   "id": "37dae99a",
   "metadata": {},
   "outputs": [
    {
     "name": "stdout",
     "output_type": "stream",
     "text": [
      "Resultant Matrix after 1th iteration\n",
      "[[-0.562 -0.     1.404  0.961]\n",
      " [-0.     3.562 -0.173  2.019]\n",
      " [ 1.404 -0.173  1.     1.   ]\n",
      " [ 0.961  2.019  1.     1.   ]]\n",
      "Resultant Matrix after 2th iteration\n",
      "[[-0.562  0.463  1.404  0.842]\n",
      " [ 0.463  4.672  0.33  -0.   ]\n",
      " [ 1.404  0.33   1.     0.96 ]\n",
      " [ 0.842 -0.     0.96  -0.11 ]]\n",
      "Resultant Matrix after 3th iteration\n",
      "[[-1.388  0.232 -0.     0.239]\n",
      " [ 0.232  4.672  0.519  0.   ]\n",
      " [-0.     0.519  1.826  1.254]\n",
      " [ 0.239  0.     1.254 -0.11 ]]\n",
      "Resultant Matrix after 4th iteration\n",
      "[[-1.388  0.232  0.105  0.215]\n",
      " [ 0.232  4.672  0.466 -0.229]\n",
      " [ 0.105  0.466  2.442 -0.   ]\n",
      " [ 0.215 -0.229 -0.    -0.726]]\n",
      "Resultant Matrix after 5th iteration\n",
      "[[-1.388  0.248  0.057  0.215]\n",
      " [ 0.248  4.765 -0.    -0.225]\n",
      " [ 0.057  0.     2.349  0.045]\n",
      " [ 0.215 -0.225  0.045 -0.726]]\n",
      "Resultant Matrix after 6th iteration\n",
      "[[-1.398e+00 -0.000e+00  5.700e-02  2.240e-01]\n",
      " [-0.000e+00  4.775e+00  2.000e-03 -2.160e-01]\n",
      " [ 5.700e-02  2.000e-03  2.349e+00  4.500e-02]\n",
      " [ 2.240e-01 -2.160e-01  4.500e-02 -7.260e-01]]\n",
      "Resultant Matrix after 7th iteration\n",
      "[[-1.466e+00  6.300e-02  4.200e-02  0.000e+00]\n",
      " [ 6.300e-02  4.775e+00  2.000e-03 -2.070e-01]\n",
      " [ 4.200e-02  2.000e-03  2.349e+00  6.000e-02]\n",
      " [ 0.000e+00 -2.070e-01  6.000e-02 -6.580e-01]]\n",
      "Resultant Matrix after 8th iteration\n",
      "[[-1.466e+00  6.300e-02  4.200e-02  2.000e-03]\n",
      " [ 6.300e-02  4.783e+00 -0.000e+00 -0.000e+00]\n",
      " [ 4.200e-02 -0.000e+00  2.349e+00  6.000e-02]\n",
      " [ 2.000e-03 -0.000e+00  6.000e-02 -6.660e-01]]\n",
      "Resultant Matrix after 9th iteration\n",
      "[[-1.467e+00 -0.000e+00  4.200e-02  2.000e-03]\n",
      " [ 0.000e+00  4.784e+00  0.000e+00  0.000e+00]\n",
      " [ 4.200e-02  0.000e+00  2.349e+00  6.000e-02]\n",
      " [ 2.000e-03  0.000e+00  6.000e-02 -6.660e-01]]\n",
      "Resultant Matrix after 10th iteration\n",
      "[[-1.467e+00  0.000e+00  4.200e-02  1.000e-03]\n",
      " [ 0.000e+00  4.784e+00  0.000e+00  0.000e+00]\n",
      " [ 4.200e-02  0.000e+00  2.350e+00 -0.000e+00]\n",
      " [ 1.000e-03  0.000e+00 -0.000e+00 -6.670e-01]]\n",
      "Resultant Matrix after 11th iteration\n",
      "[[-1.467e+00  0.000e+00 -0.000e+00  1.000e-03]\n",
      " [ 0.000e+00  4.784e+00  0.000e+00  0.000e+00]\n",
      " [-0.000e+00  0.000e+00  2.350e+00  0.000e+00]\n",
      " [ 1.000e-03  0.000e+00  0.000e+00 -6.670e-01]]\n",
      "Resultant Matrix after 12th iteration\n",
      "[[-1.467  0.     0.     0.   ]\n",
      " [ 0.     4.784  0.     0.   ]\n",
      " [ 0.     0.     2.35   0.   ]\n",
      " [-0.     0.     0.    -0.667]]\n",
      "The Eigen values of the covariance matrix are:  [(-1.467, 4.784, 2.35, -0.667)] with 13 iterations\n",
      "Elapsed time: 0.0343 seconds\n"
     ]
    }
   ],
   "source": [
    "import time\n",
    "\n",
    "start_time = time.time()\n",
    "\n",
    "# Import required libraries\n",
    "import numpy as np\n",
    "import math\n",
    "\n",
    "# Define the matrix A\n",
    "A = np.array([[1, 2, 1, 2], [2, 2, -1, 1], [1, -1, 1, 1], [2, 1, 1, 1]])\n",
    "\n",
    "# Initialize the unitary matrix Q as the identity matrix\n",
    "Q = np.eye(A.shape[0])\n",
    "\n",
    "# Tri-diagonalize A using the Givens method\n",
    "for k in range(0, 30):\n",
    "\n",
    "    # Find the maximum element in the lower triangle of A\n",
    "    maximum_element = A[0][0]\n",
    "    p = 0\n",
    "    q = 0\n",
    "    for i in range(0, A.shape[0]):\n",
    "        for j in range(0, A.shape[0]):\n",
    "            # Ignore diagonal and upper triangle elements\n",
    "            if i == j or i > j:\n",
    "                continue\n",
    "            else:\n",
    "                # Update p and q if a larger element is found\n",
    "                if abs(A[i][j]) > maximum_element:\n",
    "                    p = i\n",
    "                    q = j\n",
    "                    maximum_element = abs(A[i][j])\n",
    "\n",
    "    # Calculate the rotation angle\n",
    "    theta_degrees = 0\n",
    "    if A[p, p] - A[q, q] == 0:\n",
    "        if A[p, q] < 0:\n",
    "            theta_degrees = -45\n",
    "        else:\n",
    "            theta_degrees = 45\n",
    "    else:\n",
    "        theta_degrees = math.degrees(math.atan((2 * A[p, q]) / (A[p, p] - A[q, q])))\n",
    "        theta_degrees = theta_degrees / 2\n",
    "    \n",
    "    # Convert the angle to radians and calculate sin and cosine\n",
    "    theta_radians = math.radians(theta_degrees)\n",
    "    sin_theta = math.sin(theta_radians)\n",
    "    cos_theta = math.cos(theta_radians)\n",
    "\n",
    "    # Create the rotation matrix Q\n",
    "    Q = np.eye(A.shape[0])\n",
    "    Q[p, p] = cos_theta\n",
    "    Q[p, q] = sin_theta\n",
    "    Q[q, p] = -sin_theta\n",
    "    Q[q, q] = cos_theta\n",
    "\n",
    "    # Apply the rotation to A\n",
    "    B = A\n",
    "    A = np.dot(Q, np.dot(A, Q.T))\n",
    "    A = np.round(A, 3)\n",
    "\n",
    "    # If A has converged to a tri-diagonal matrix, exit the loop\n",
    "    if (A == B).all():\n",
    "        break\n",
    "\n",
    "    # Print the result after each iteration\n",
    "    print(f'Resultant Matrix after {k+1}th iteration')\n",
    "    print(np.round(A, decimals=4))\n",
    "print(f\"The Eigen values of the covariance matrix are:  [{A[0][0],A[1][1],A[2][2],A[3][3]}] with {k+1} iterations\")\n",
    "\n",
    "\n",
    "end_time = time.time()\n",
    "\n",
    "elapsed_time = end_time - start_time\n",
    "\n",
    "print(f\"Elapsed time: {elapsed_time:.4f} seconds\")"
   ]
  },
  {
   "cell_type": "markdown",
   "id": "976b2bc7",
   "metadata": {},
   "source": [
    "This code calculates the eigenvalues and eigenvectors of a matrix A using the numpy.linalg.eig function and prints only the eigenvalues. The eigenvals variable will store an array of the eigenvalues of A, which can be used for further calculations or analysis.\n",
    "\n",
    "\n",
    "\n",
    "\n",
    "\n"
   ]
  },
  {
   "cell_type": "markdown",
   "id": "4a065e94",
   "metadata": {},
   "source": [
    "# We can see that the values in the diagonal elements of the final jacobi matrix after 12 iterations with Jacobi method were same as the eigen values computed for the same covariance matrix. By this we can say that we have successfully implemented the JACOBI method."
   ]
  },
  {
   "cell_type": "markdown",
   "id": "cef43537",
   "metadata": {},
   "source": [
    "# Number of iterations required for Jacobi's method is: 13\n"
   ]
  },
  {
   "cell_type": "markdown",
   "id": "b2650d64",
   "metadata": {},
   "source": [
    "# Eigenvectors of Tridiagonalized matrix"
   ]
  },
  {
   "cell_type": "code",
   "execution_count": 6,
   "id": "cd8a34c9",
   "metadata": {},
   "outputs": [
    {
     "name": "stdout",
     "output_type": "stream",
     "text": [
      "[[-1.467  0.     0.     0.   ]\n",
      " [ 0.     4.784  0.     0.   ]\n",
      " [ 0.     0.     2.35   0.   ]\n",
      " [ 0.     0.     0.    -0.667]]\n",
      "Eigenvalues of Tridiagonalized matrix:\n",
      "[-1.467  4.784  2.35  -0.667]\n",
      "\n",
      "Eigenvectors of Tridiagonalized matrix:\n",
      "[[1. 0. 0. 0.]\n",
      " [0. 1. 0. 0.]\n",
      " [0. 0. 1. 0.]\n",
      " [0. 0. 0. 1.]]\n"
     ]
    }
   ],
   "source": [
    "import numpy as np\n",
    "print(A.round(decimals=4))\n",
    "\n",
    "# Calculate eigenvalues and eigenvectors of matrix A\n",
    "eigenvals, eigenvecs = np.linalg.eig(A)\n",
    "\n",
    "# Print the eigenvalues\n",
    "print(\"Eigenvalues of Tridiagonalized matrix:\")\n",
    "print(eigenvals)\n",
    "\n",
    "\n",
    "# Print eigenvectors\n",
    "print(\"\\nEigenvectors of Tridiagonalized matrix:\")\n",
    "print(eigenvecs)"
   ]
  },
  {
   "cell_type": "markdown",
   "id": "028127a2",
   "metadata": {},
   "source": [
    "# Eigenvectors of covariance matrix"
   ]
  },
  {
   "cell_type": "code",
   "execution_count": 3,
   "id": "b0f7c139",
   "metadata": {},
   "outputs": [
    {
     "name": "stdout",
     "output_type": "stream",
     "text": [
      "Eigenvalues of B:\n",
      "[ 4.78378005  2.34968353 -1.4658573  -0.66760628]\n",
      "\n",
      "Eigenvectors:\n",
      "[[ 0.61635818  0.1212607   0.74892336 -0.21097923]\n",
      " [ 0.57554185 -0.58650376 -0.46964085 -0.32280396]\n",
      " [ 0.14738301  0.74396511 -0.38905977 -0.52290215]\n",
      " [ 0.51684855  0.29635299 -0.25919833  0.76017018]]\n"
     ]
    }
   ],
   "source": [
    "import numpy as np\n",
    "\n",
    "B = np.array([[1, 2,1,2], [2,2,-1,1], [1,-1,1,1],[2,1,1,1]])\n",
    "\n",
    "# Calculate eigenvalues and eigenvectors of matrix B\n",
    "eigenvalsB, eigenvecsB = np.linalg.eig(B)\n",
    "\n",
    "# Print the eigenvalues\n",
    "print(\"Eigenvalues of B:\")\n",
    "print(eigenvalsB)\n",
    "\n",
    "# Print eigenvectors\n",
    "print(\"\\nEigenvectors:\")\n",
    "print(eigenvecsB)\n"
   ]
  },
  {
   "cell_type": "code",
   "execution_count": 7,
   "id": "8307305a",
   "metadata": {},
   "outputs": [
    {
     "name": "stdout",
     "output_type": "stream",
     "text": [
      "[[ 1. -0.  0.  0.]\n",
      " [ 0.  1.  0.  0.]\n",
      " [ 0.  0.  1.  0.]\n",
      " [ 0.  0.  0.  1.]]\n"
     ]
    }
   ],
   "source": [
    "print(Q.round(decimals=4))"
   ]
  },
  {
   "cell_type": "markdown",
   "id": "2c40cd5d",
   "metadata": {},
   "source": [
    "# The above matrix Q is the Jacobi Rotation transformation used in the last Iteration"
   ]
  },
  {
   "cell_type": "code",
   "execution_count": 8,
   "id": "86709e8c",
   "metadata": {},
   "outputs": [
    {
     "name": "stdout",
     "output_type": "stream",
     "text": [
      "[[1. 0. 0. 0.]\n",
      " [0. 1. 0. 0.]\n",
      " [0. 0. 1. 0.]\n",
      " [0. 0. 0. 1.]]\n",
      "[[ 0.6164  0.1213  0.7489 -0.211 ]\n",
      " [ 0.5755 -0.5865 -0.4696 -0.3228]\n",
      " [ 0.1474  0.744  -0.3891 -0.5229]\n",
      " [ 0.5168  0.2964 -0.2592  0.7602]]\n"
     ]
    }
   ],
   "source": [
    "T_inverse = np.linalg.inv(Q)\n",
    "print(T_inverse)\n",
    "y = np.dot(T_inverse, eigenvecsB)\n",
    "print(y.round(decimals=4))"
   ]
  },
  {
   "cell_type": "markdown",
   "id": "63b034c5",
   "metadata": {},
   "source": [
    "# We know that if x is an eigenvector of A, then y = T_inverse.x is an eigenvector of Â"
   ]
  },
  {
   "cell_type": "markdown",
   "id": "8aca5dd5",
   "metadata": {},
   "source": [
    "# The eigenvectors obtained in the above cell following the above stated theorem are similar to the Eigenvectors of final matrix so we can say that the y= T_inverse. x relation is satisfied."
   ]
  },
  {
   "cell_type": "markdown",
   "id": "99459336",
   "metadata": {},
   "source": [
    "# We can say that from the above results all the eigen values are all similar for all the three methods."
   ]
  },
  {
   "cell_type": "markdown",
   "id": "a064026a",
   "metadata": {},
   "source": [
    "# From the above computations we can see that from the code we got these  processing times of three methods [0.0197, 0.0218, 0.0343]"
   ]
  },
  {
   "cell_type": "markdown",
   "id": "5fa3b227",
   "metadata": {},
   "source": [
    "# Plotting  the required processing time versus dimension N of the N x N matrix"
   ]
  },
  {
   "cell_type": "code",
   "execution_count": 31,
   "id": "e9bdf10a",
   "metadata": {},
   "outputs": [
    {
     "data": {
      "image/png": "[encoded data removed]",
      "text/plain": [
       "<Figure size 1080x360 with 4 Axes>"
      ]
     },
     "metadata": {
      "needs_background": "light"
     },
     "output_type": "display_data"
    }
   ],
   "source": [
    "import numpy as np\n",
    "import matplotlib.pyplot as plt\n",
    "\n",
    "methods = ['HOUSEHOLDER', 'GIVEN', 'JACOBI']\n",
    "times = [0.0197, 0.0218, 0.0343]\n",
    "std_dev = np.std(times)\n",
    "\n",
    "fig, (ax1, ax2, ax3, ax4) = plt.subplots(nrows=1, ncols=4, figsize=(15, 5))\n",
    "\n",
    "# plot the data for each method separately\n",
    "for i, method in enumerate(methods):\n",
    "    ax1.errorbar(i, times[i], yerr=std_dev, fmt='o', color=['red', 'green', 'blue'][i], label=method)\n",
    "\n",
    "ax1.set_xticks(range(len(methods)))\n",
    "ax1.set_xticklabels(methods)\n",
    "ax1.set_xlabel('Method')\n",
    "ax1.set_ylabel('Time (s)')\n",
    "ax1.set_title('Time to complete methods')\n",
    "ax1.legend()\n",
    "\n",
    "# plot the bar chart\n",
    "ax2.bar(range(len(methods)), times, yerr=std_dev)\n",
    "ax2.set_xticks(range(len(methods)))\n",
    "ax2.set_xticklabels(methods)\n",
    "ax2.set_xlabel('Method')\n",
    "ax2.set_ylabel('Time (s)')\n",
    "ax2.set_title('Time to complete methods')\n",
    "\n",
    "\n",
    "\n",
    "\n",
    "# add a line from (0, 0) to each point, with a different color for each line\n",
    "ax3.plot([0, dims[0]], [0, times[0]], color='red')\n",
    "ax3.plot([0, dims[1]], [0, times[1]], color='green')\n",
    "ax3.plot([0, dims[2]], [0, times[2]], color='blue')\n",
    "ax3.set_xlabel('Dimension of Matrix')\n",
    "ax3.set_ylabel('Running Time (seconds)')\n",
    "ax3.set_title('Comparison of Three Methods')\n",
    "\n",
    "\n",
    "# plot the data as a scatter plot with error bars\n",
    "ax4.errorbar(dims, times, yerr=std_dev, fmt='o')\n",
    "ax4.set_xlabel('Dimension of Matrix')\n",
    "ax4.set_ylabel('Running Time (seconds)')\n",
    "ax4.set_title('Comparison of Three Methods')\n",
    "\n",
    "\n",
    "plt.show()\n"
   ]
  },
  {
   "cell_type": "code",
   "execution_count": null,
   "id": "3b7834b9",
   "metadata": {},
   "outputs": [],
   "source": []
  }
 ],
 "metadata": {
  "kernelspec": {
   "display_name": "Python 3 (ipykernel)",
   "language": "python",
   "name": "python3"
  },
  "language_info": {
   "codemirror_mode": {
    "name": "ipython",
    "version": 3
   },
   "file_extension": ".py",
   "mimetype": "text/x-python",
   "name": "python",
   "nbconvert_exporter": "python",
   "pygments_lexer": "ipython3",
   "version": "3.9.12"
  }
 },
 "nbformat": 4,
 "nbformat_minor": 5
}
